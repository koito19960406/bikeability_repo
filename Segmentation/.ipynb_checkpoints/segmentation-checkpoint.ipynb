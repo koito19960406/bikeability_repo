{
 "cells": [
  {
   "cell_type": "code",
   "execution_count": 11,
   "id": "broadband-syndrome",
   "metadata": {},
   "outputs": [],
   "source": [
    "%matplotlib inline\n",
    "import sagemaker\n",
    "from sagemaker import get_execution_role\n",
    "import PIL\n",
    "from PIL import Image\n",
    "import numpy as np\n",
    "import os\n",
    "from matplotlib import pyplot as plt\n",
    "import tqdm\n",
    "import json \n",
    "import pandas as pd \n",
    "from pandas.io.json import json_normalize #package for flattening json in pandas df\n",
    "import glob"
   ]
  },
  {
   "cell_type": "code",
   "execution_count": 3,
   "id": "technological-distribution",
   "metadata": {},
   "outputs": [
    {
     "name": "stderr",
     "output_type": "stream",
     "text": [
      "/home/ec2-user/anaconda3/envs/mxnet_latest_p37/lib/python3.7/site-packages/ipykernel/__main__.py:6: FutureWarning: pandas.io.json.json_normalize is deprecated, use pandas.json_normalize instead\n"
     ]
    },
    {
     "data": {
      "text/html": [
       "<div>\n",
       "<style scoped>\n",
       "    .dataframe tbody tr th:only-of-type {\n",
       "        vertical-align: middle;\n",
       "    }\n",
       "\n",
       "    .dataframe tbody tr th {\n",
       "        vertical-align: top;\n",
       "    }\n",
       "\n",
       "    .dataframe thead th {\n",
       "        text-align: right;\n",
       "    }\n",
       "</style>\n",
       "<table border=\"1\" class=\"dataframe\">\n",
       "  <thead>\n",
       "    <tr style=\"text-align: right;\">\n",
       "      <th></th>\n",
       "      <th>name</th>\n",
       "      <th>readable</th>\n",
       "      <th>instances</th>\n",
       "      <th>evaluate</th>\n",
       "      <th>color</th>\n",
       "    </tr>\n",
       "  </thead>\n",
       "  <tbody>\n",
       "    <tr>\n",
       "      <th>0</th>\n",
       "      <td>animal--bird</td>\n",
       "      <td>Bird</td>\n",
       "      <td>True</td>\n",
       "      <td>True</td>\n",
       "      <td>[165, 42, 42]</td>\n",
       "    </tr>\n",
       "    <tr>\n",
       "      <th>1</th>\n",
       "      <td>animal--ground-animal</td>\n",
       "      <td>Ground Animal</td>\n",
       "      <td>True</td>\n",
       "      <td>True</td>\n",
       "      <td>[0, 192, 0]</td>\n",
       "    </tr>\n",
       "    <tr>\n",
       "      <th>2</th>\n",
       "      <td>construction--barrier--ambiguous</td>\n",
       "      <td>Ambiguous Barrier</td>\n",
       "      <td>False</td>\n",
       "      <td>False</td>\n",
       "      <td>[250, 170, 31]</td>\n",
       "    </tr>\n",
       "    <tr>\n",
       "      <th>3</th>\n",
       "      <td>construction--barrier--concrete-block</td>\n",
       "      <td>Concrete Block</td>\n",
       "      <td>False</td>\n",
       "      <td>True</td>\n",
       "      <td>[250, 170, 32]</td>\n",
       "    </tr>\n",
       "    <tr>\n",
       "      <th>4</th>\n",
       "      <td>construction--barrier--curb</td>\n",
       "      <td>Curb</td>\n",
       "      <td>False</td>\n",
       "      <td>True</td>\n",
       "      <td>[196, 196, 196]</td>\n",
       "    </tr>\n",
       "    <tr>\n",
       "      <th>...</th>\n",
       "      <td>...</td>\n",
       "      <td>...</td>\n",
       "      <td>...</td>\n",
       "      <td>...</td>\n",
       "      <td>...</td>\n",
       "    </tr>\n",
       "    <tr>\n",
       "      <th>119</th>\n",
       "      <td>void--dynamic</td>\n",
       "      <td>Dynamic</td>\n",
       "      <td>False</td>\n",
       "      <td>True</td>\n",
       "      <td>[111, 74, 0]</td>\n",
       "    </tr>\n",
       "    <tr>\n",
       "      <th>120</th>\n",
       "      <td>void--ego-vehicle</td>\n",
       "      <td>Ego Vehicle</td>\n",
       "      <td>False</td>\n",
       "      <td>True</td>\n",
       "      <td>[120, 10, 10]</td>\n",
       "    </tr>\n",
       "    <tr>\n",
       "      <th>121</th>\n",
       "      <td>void--ground</td>\n",
       "      <td>Ground</td>\n",
       "      <td>False</td>\n",
       "      <td>True</td>\n",
       "      <td>[81, 0, 81]</td>\n",
       "    </tr>\n",
       "    <tr>\n",
       "      <th>122</th>\n",
       "      <td>void--static</td>\n",
       "      <td>Static</td>\n",
       "      <td>False</td>\n",
       "      <td>True</td>\n",
       "      <td>[111, 111, 0]</td>\n",
       "    </tr>\n",
       "    <tr>\n",
       "      <th>123</th>\n",
       "      <td>void--unlabeled</td>\n",
       "      <td>Unlabeled</td>\n",
       "      <td>False</td>\n",
       "      <td>False</td>\n",
       "      <td>[0, 0, 0]</td>\n",
       "    </tr>\n",
       "  </tbody>\n",
       "</table>\n",
       "<p>124 rows × 5 columns</p>\n",
       "</div>"
      ],
      "text/plain": [
       "                                      name           readable  instances  \\\n",
       "0                             animal--bird               Bird       True   \n",
       "1                    animal--ground-animal      Ground Animal       True   \n",
       "2         construction--barrier--ambiguous  Ambiguous Barrier      False   \n",
       "3    construction--barrier--concrete-block     Concrete Block      False   \n",
       "4              construction--barrier--curb               Curb      False   \n",
       "..                                     ...                ...        ...   \n",
       "119                          void--dynamic            Dynamic      False   \n",
       "120                      void--ego-vehicle        Ego Vehicle      False   \n",
       "121                           void--ground             Ground      False   \n",
       "122                           void--static             Static      False   \n",
       "123                        void--unlabeled          Unlabeled      False   \n",
       "\n",
       "     evaluate            color  \n",
       "0        True    [165, 42, 42]  \n",
       "1        True      [0, 192, 0]  \n",
       "2       False   [250, 170, 31]  \n",
       "3        True   [250, 170, 32]  \n",
       "4        True  [196, 196, 196]  \n",
       "..        ...              ...  \n",
       "119      True     [111, 74, 0]  \n",
       "120      True    [120, 10, 10]  \n",
       "121      True      [81, 0, 81]  \n",
       "122      True    [111, 111, 0]  \n",
       "123     False        [0, 0, 0]  \n",
       "\n",
       "[124 rows x 5 columns]"
      ]
     },
     "execution_count": 3,
     "metadata": {},
     "output_type": "execute_result"
    }
   ],
   "source": [
    "# import classes as a dataframe\n",
    "root = \"/home/ec2-user/SageMaker/\"\n",
    "config=os.path.join(root,'models/config_v2.0.json')\n",
    "with open(config) as f:\n",
    "    d = json.load(f)\n",
    "classes_df = json_normalize(d['labels'],max_level=3)\n",
    "classes_df"
   ]
  },
  {
   "cell_type": "code",
   "execution_count": 4,
   "id": "meaningful-helping",
   "metadata": {},
   "outputs": [
    {
     "name": "stdout",
     "output_type": "stream",
     "text": [
      "arn:aws:iam::428024436188:role/service-role/AmazonSageMaker-ExecutionRole-20210205T145626\n",
      "CPU times: user 192 ms, sys: 24.6 ms, total: 216 ms\n",
      "Wall time: 613 ms\n"
     ]
    }
   ],
   "source": [
    "%%time\n",
    "role = get_execution_role()\n",
    "print(role)\n",
    "sess = sagemaker.Session()"
   ]
  },
  {
   "cell_type": "code",
   "execution_count": 6,
   "id": "decimal-resource",
   "metadata": {},
   "outputs": [
    {
     "name": "stdout",
     "output_type": "stream",
     "text": [
      "475088953585.dkr.ecr.ap-southeast-1.amazonaws.com/semantic-segmentation:1\n"
     ]
    }
   ],
   "source": [
    "training_image = sagemaker.image_uris.retrieve('semantic-segmentation', sess.boto_region_name)\n",
    "print(training_image)"
   ]
  },
  {
   "cell_type": "code",
   "execution_count": 7,
   "id": "monetary-fence",
   "metadata": {},
   "outputs": [
    {
     "name": "stdout",
     "output_type": "stream",
     "text": [
      "---------------!"
     ]
    }
   ],
   "source": [
    "trainedmodel = sagemaker.model.Model(\n",
    "    model_data='s3://sagemaker-ap-southeast-1-428024436188/semantic-segmentation-demo/output/mapillary-segmentation-3/output/model.tar.gz',\n",
    "    image_uri=training_image,  # example path for the semantic segmentation in eu-west-1\n",
    "    role=role,\n",
    "    predictor_cls=sagemaker.predictor.Predictor)  # your role here; could be different name\n",
    "\n",
    "ss_predictor=trainedmodel.deploy(initial_instance_count=1,session=sess,instance_type='ml.c5.4xlarge',endpoint_name='segmentation')"
   ]
  },
  {
   "cell_type": "code",
   "execution_count": 8,
   "id": "alleged-clock",
   "metadata": {},
   "outputs": [],
   "source": [
    "class ImageDeserializer(sagemaker.deserializers.BaseDeserializer):\n",
    "    \"\"\"Deserialize a PIL-compatible stream of Image bytes into a numpy pixel array\"\"\"\n",
    "    def __init__(self, accept=\"image/png\"):\n",
    "        self.accept = accept\n",
    "\n",
    "    @property\n",
    "    def ACCEPT(self):\n",
    "        return (self.accept,)\n",
    "\n",
    "    def deserialize(self, stream, content_type):\n",
    "        \"\"\"Read a stream of bytes returned from an inference endpoint.\n",
    "        Args:\n",
    "            stream (botocore.response.StreamingBody): A stream of bytes.\n",
    "            content_type (str): The MIME type of the data.\n",
    "        Returns:\n",
    "            mask: The numpy array of class labels per pixel\n",
    "        \"\"\"\n",
    "        try:\n",
    "            return np.array(Image.open(stream))\n",
    "        finally:\n",
    "            stream.close()\n",
    "\n",
    "\n",
    "ss_predictor.deserializer = ImageDeserializer(accept=\"image/png\")\n",
    "ss_predictor.serializer = sagemaker.serializers.IdentitySerializer('image/jpeg')"
   ]
  },
  {
   "cell_type": "code",
   "execution_count": 13,
   "id": "acceptable-there",
   "metadata": {},
   "outputs": [
    {
     "name": "stderr",
     "output_type": "stream",
     "text": [
      "100%|██████████| 5/5 [01:20<00:00, 16.12s/it]\n"
     ]
    }
   ],
   "source": [
    "root = \"/home/ec2-user/SageMaker/\"\n",
    "def calculate_pixel_ratio(x,array):\n",
    "    total_num=array.shape[0]*array.shape[1]\n",
    "    x_num=np.count_nonzero(array==x)\n",
    "    return x_num/total_num\n",
    "\n",
    "# creating variables to be used for extracting the pixl values\n",
    "result_dict={}\n",
    "classes=np.arange(start=0, stop=124)\n",
    "\n",
    "# create output folder\n",
    "output_folder=os.path.join(root,'data/segmentation_test/')\n",
    "if not os.path.exists(output_folder):\n",
    "    os.makedirs(output_folder)\n",
    "\n",
    "# go through each image in the img_data folder\n",
    "im_file=glob.glob(os.path.join(root,'data/img_seperate_Singapore/*.jpg'))[:5]\n",
    "for file in tqdm.tqdm(im_file):\n",
    "    temp_dict={}\n",
    "#     filename_raw = os.path.join('../img_data',file)\n",
    "#     width = 800\n",
    "#     im = PIL.Image.open(file)\n",
    "#     aspect = im.size[0] / im.size[1]\n",
    "#     im.thumbnail([width, int(width / aspect)], PIL.Image.ANTIALIAS)\n",
    "#     if not os.path.isdir('../img_data_resized'):\n",
    "#         os.makedirs('../img_data_resized', exist_ok=True)\n",
    "#     filename=os.path.join('../img_data_resized',file)\n",
    "#     im.save(filename, \"JPEG\")\n",
    "#     plt.imshow(im)\n",
    "#     plt.show()\n",
    "    with open(file, 'rb') as imfile:\n",
    "        imbytes = imfile.read()\n",
    "    cls_mask = ss_predictor.predict(imbytes)\n",
    "    # save as image\n",
    "    im_from_array = Image.fromarray(cls_mask)\n",
    "    im_from_array.show()\n",
    "    im_from_array.save(os.path.join(output_folder,os.path.split(file)[1]))\n",
    "#     for i in range(124):\n",
    "#         ratio=calculate_pixel_ratio(i,cls_mask)\n",
    "#         temp_dict[i]=ratio\n",
    "#     result_dict[os.path.split(file)[1].replace('.jpg','')]= temp_dict\n",
    "# result_df=pd.DataFrame(result_dict)\n",
    "# result_df=result_df.transpose()\n",
    "# result_df.columns=classes['name'].tolist()\n",
    "# result_df.to_csv('../tabular_data/segmentation.csv')\n",
    "# sess.upload_data(path='../tabular_data/detection.csv', bucket='tabular-data-bikeability', key_prefix='segmentation')"
   ]
  },
  {
   "cell_type": "code",
   "execution_count": 14,
   "id": "serial-niagara",
   "metadata": {},
   "outputs": [],
   "source": [
    "sagemaker.Session().delete_endpoint(ss_predictor.endpoint_name)"
   ]
  },
  {
   "cell_type": "code",
   "execution_count": 57,
   "id": "intellectual-exclusion",
   "metadata": {},
   "outputs": [
    {
     "data": {
      "text/plain": [
       "'s3://tabular-data-bikeability/segmentation/detection.csv'"
      ]
     },
     "execution_count": 57,
     "metadata": {},
     "output_type": "execute_result"
    }
   ],
   "source": []
  },
  {
   "cell_type": "code",
   "execution_count": null,
   "id": "forward-embassy",
   "metadata": {},
   "outputs": [],
   "source": []
  }
 ],
 "metadata": {
  "kernelspec": {
   "display_name": "conda_mxnet_latest_p37",
   "language": "python",
   "name": "conda_mxnet_latest_p37"
  },
  "language_info": {
   "codemirror_mode": {
    "name": "ipython",
    "version": 3
   },
   "file_extension": ".py",
   "mimetype": "text/x-python",
   "name": "python",
   "nbconvert_exporter": "python",
   "pygments_lexer": "ipython3",
   "version": "3.7.10"
  }
 },
 "nbformat": 4,
 "nbformat_minor": 5
}

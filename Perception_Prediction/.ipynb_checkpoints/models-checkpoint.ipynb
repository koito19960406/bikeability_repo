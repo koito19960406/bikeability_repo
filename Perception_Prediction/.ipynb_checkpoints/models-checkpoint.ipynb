{
 "cells": [
  {
   "cell_type": "code",
   "execution_count": 1,
   "id": "loving-likelihood",
   "metadata": {},
   "outputs": [],
   "source": [
    "import pipeline_utils\n",
    "import os\n",
    "import glob\n",
    "import pandas as pd"
   ]
  },
  {
   "cell_type": "code",
   "execution_count": 7,
   "id": "descending-amino",
   "metadata": {},
   "outputs": [],
   "source": [
    "directory=\"../tabular_data\"\n",
    "extension = 'csv'\n",
    "all_filenames = [i for i in glob.glob(os.path.join(directory,'*.{}'.format(extension)))]\n",
    "#combine all files in the list\n",
    "index=0\n",
    "df_list=[]\n",
    "for f in all_filenames:\n",
    "    df_temp=pd.read_csv(f)\n",
    "    if index!=0:\n",
    "        try:\n",
    "            df_temp=df_temp.drop(['Unnamed: 0'])\n",
    "        except:\n",
    "            pass\n",
    "        try:\n",
    "            df_temp=df_temp.drop(['pano_id'])\n",
    "        except:\n",
    "            pass\n",
    "    df_list.append(df_temp)\n",
    "    index+=1\n",
    "combined_csv = pd.concat(df_list,axis=1)\n",
    "combined_csv.to_csv(os.path.join(directory,'combined.csv'))"
   ]
  },
  {
   "cell_type": "code",
   "execution_count": null,
   "id": "presidential-feature",
   "metadata": {},
   "outputs": [],
   "source": []
  }
 ],
 "metadata": {
  "kernelspec": {
   "display_name": "conda_mxnet_latest_p37",
   "language": "python",
   "name": "conda_mxnet_latest_p37"
  },
  "language_info": {
   "codemirror_mode": {
    "name": "ipython",
    "version": 3
   },
   "file_extension": ".py",
   "mimetype": "text/x-python",
   "name": "python",
   "nbconvert_exporter": "python",
   "pygments_lexer": "ipython3",
   "version": "3.7.6"
  }
 },
 "nbformat": 4,
 "nbformat_minor": 5
}

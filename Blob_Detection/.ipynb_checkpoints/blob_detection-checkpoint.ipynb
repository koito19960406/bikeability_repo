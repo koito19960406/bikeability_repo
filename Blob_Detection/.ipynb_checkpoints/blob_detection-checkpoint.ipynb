{
 "cells": [
  {
   "cell_type": "code",
   "execution_count": 7,
   "metadata": {},
   "outputs": [],
   "source": [
    "import cv2\n",
    "import numpy as np\n",
    "import matplotlib.pyplot as plt\n",
    "import os\n",
    "import tqdm\n",
    "import pandas as pd"
   ]
  },
  {
   "cell_type": "code",
   "execution_count": 12,
   "metadata": {},
   "outputs": [
    {
     "name": "stderr",
     "output_type": "stream",
     "text": [
      "100%|██████████| 119/119 [00:26<00:00,  4.49it/s]\n"
     ]
    }
   ],
   "source": [
    "# create the final dataframe \n",
    "result_df=pd.DataFrame(columns=['pano_id','blob_num'])\n",
    "\n",
    "# set the directory\n",
    "parentDirectory= os.path.abspath(os.path.join(os.getcwd(), os.pardir))\n",
    "directory=os.path.join(parentDirectory,'img_stitched')\n",
    "for filename in tqdm.tqdm(os.listdir(directory)):\n",
    "    img_file=os.path.join(parentDirectory,'img_stitched',filename)\n",
    "\n",
    "    # Read image\n",
    "    im = cv2.imread(img_file, cv2.IMREAD_GRAYSCALE)\n",
    "\n",
    "    # # Set up the detector with default parameters.\n",
    "    # # Setup SimpleBlobDetector parameters.\n",
    "    # params = cv2.SimpleBlobDetector_Params()\n",
    "\n",
    "    # # Change thresholds\n",
    "    # params.minThreshold = 10;\n",
    "    # params.maxThreshold = 200;\n",
    "\n",
    "    # # Filter by Area.\n",
    "    # params.filterByArea = True\n",
    "    # params.minArea = 1500\n",
    "\n",
    "    # # Filter by Circularity\n",
    "    # params.filterByCircularity = True\n",
    "    # params.minCircularity = 0.1\n",
    "\n",
    "    # # Filter by Convexity\n",
    "    # params.filterByConvexity = True\n",
    "    # params.minConvexity = 0.87\n",
    "\n",
    "    # # Filter by Inertia\n",
    "    # params.filterByInertia = True\n",
    "    # params.minInertiaRatio = 0.01\n",
    "\n",
    "    # Create a detector with the parameters\n",
    "    detector = cv2.SimpleBlobDetector_create()\n",
    "\n",
    "    # Detect blobs and save it to result_df\n",
    "    keypoints = detector.detect(im)\n",
    "    df_length = len(result_df)\n",
    "    result_df.loc[df_length]=[filename.split('.jpg')[0],len(keypoints)]\n",
    "\n",
    "    # Draw detected blobs as red circles.\n",
    "    # cv2.DRAW_MATCHES_FLAGS_DRAW_RICH_KEYPOINTS ensures the size of the circle corresponds to the size of blob\n",
    "    im_with_keypoints = cv2.drawKeypoints(im, keypoints, np.array([]), (0,0,255), cv2.DRAW_MATCHES_FLAGS_DRAW_RICH_KEYPOINTS)\n",
    "    cv2.imwrite(os.path.join(parentDirectory,'output','blob_detected_{}.jpg'.format(filename.split('.jpg')[0])), im_with_keypoints) \n",
    "    # # Show keypoints\n",
    "    # cv2.imshow(\"Keypoints\", im_with_keypoints)\n",
    "    # # cv2.waitKey(0)\n",
    "    # plt.axis(\"off\")\n",
    "    # plt.imshow(im_with_keypoints)\n",
    "    # plt.savefig(os.path.join(parentDirectory,'output','blob_detected_{}.jpg'.format(filename.split('.jpg')[0])))\n",
    "    # plt.show()\n",
    "\n",
    "result_df.to_csv(os.path.join(parentDirectory,'data','blob_detection_test.csv'))"
   ]
  },
  {
   "cell_type": "code",
   "execution_count": null,
   "metadata": {},
   "outputs": [],
   "source": []
  }
 ],
 "metadata": {
  "kernelspec": {
   "display_name": "Python 3.7.4 64-bit ('base': conda)",
   "language": "python",
   "name": "python37464bitbaseconda5c044770ccaa4e1ca29e50408ebed5a3"
  },
  "language_info": {
   "codemirror_mode": {
    "name": "ipython",
    "version": 3
   },
   "file_extension": ".py",
   "mimetype": "text/x-python",
   "name": "python",
   "nbconvert_exporter": "python",
   "pygments_lexer": "ipython3",
   "version": "3.7.4-final"
  }
 },
 "nbformat": 4,
 "nbformat_minor": 2
}
